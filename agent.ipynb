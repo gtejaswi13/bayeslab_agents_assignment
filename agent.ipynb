{
  "nbformat": 4,
  "nbformat_minor": 0,
  "metadata": {
    "colab": {
      "provenance": [],
      "authorship_tag": "ABX9TyOAgvefQMd11yfAvma8q662",
      "include_colab_link": true
    },
    "kernelspec": {
      "name": "python3",
      "display_name": "Python 3"
    },
    "language_info": {
      "name": "python"
    }
  },
  "cells": [
    {
      "cell_type": "markdown",
      "metadata": {
        "id": "view-in-github",
        "colab_type": "text"
      },
      "source": [
        "<a href=\"https://colab.research.google.com/github/gtejaswi13/bayeslab_agents_assignment/blob/main/agent.ipynb\" target=\"_parent\"><img src=\"https://colab.research.google.com/assets/colab-badge.svg\" alt=\"Open In Colab\"/></a>"
      ]
    },
    {
      "cell_type": "code",
      "source": [
        "!pip install -q crewai 'crewai[tools]' langchain_groq --progress-bar off"
      ],
      "metadata": {
        "colab": {
          "base_uri": "https://localhost:8080/"
        },
        "id": "Q6dVY1Iy2573",
        "outputId": "535dd75f-87f9-4fb4-fd9b-12fe3ca57a2e"
      },
      "execution_count": 7,
      "outputs": [
        {
          "output_type": "stream",
          "name": "stdout",
          "text": [
            "  Installing build dependencies ... \u001b[?25l\u001b[?25hdone\n",
            "  Getting requirements to build wheel ... \u001b[?25l\u001b[?25hdone\n",
            "  Preparing metadata (pyproject.toml) ... \u001b[?25l\u001b[?25hdone\n",
            "  Preparing metadata (setup.py) ... \u001b[?25l\u001b[?25hdone\n",
            "  Building wheel for docx2txt (setup.py) ... \u001b[?25l\u001b[?25hdone\n",
            "  Building wheel for pypika (pyproject.toml) ... \u001b[?25l\u001b[?25hdone\n",
            "\u001b[31mERROR: pip's dependency resolver does not currently take into account all the packages that are installed. This behaviour is the source of the following dependency conflicts.\n",
            "tensorflow 2.17.1 requires protobuf!=4.21.0,!=4.21.1,!=4.21.2,!=4.21.3,!=4.21.4,!=4.21.5,<5.0.0dev,>=3.20.3, but you have protobuf 5.29.2 which is incompatible.\n",
            "tensorflow-metadata 1.13.1 requires protobuf<5,>=3.20.3, but you have protobuf 5.29.2 which is incompatible.\n",
            "transformers 4.47.1 requires tokenizers<0.22,>=0.21, but you have tokenizers 0.20.3 which is incompatible.\u001b[0m\u001b[31m\n",
            "\u001b[0m"
          ]
        }
      ]
    },
    {
      "cell_type": "code",
      "execution_count": 8,
      "metadata": {
        "id": "8g5kWOX02uOL"
      },
      "outputs": [],
      "source": [
        "from crewai import Agent, Task, Crew\n",
        "from langchain_groq import ChatGroq"
      ]
    },
    {
      "cell_type": "code",
      "source": [
        "import os\n",
        "from google.colab import userdata\n",
        "groq_api_key = userdata.get('groq_api')\n",
        "os.environ[\"GROQ_API_KEY\"] = groq_api_key\n",
        "\n",
        "serper_api_key = userdata.get('serper_api')\n",
        "os.environ[\"SERPER_API_KEY\"] = serper_api_key"
      ],
      "metadata": {
        "id": "uWMz3Qy73Tpm"
      },
      "execution_count": 9,
      "outputs": []
    },
    {
      "cell_type": "code",
      "source": [
        "import os\n",
        "from crewai import LLM\n",
        "groq_llm = LLM(\n",
        "    model=\"groq/llama3-8b-8192\",\n",
        "    temperature=0.3,\n",
        "    max_tokens=4096,\n",
        "    api_key=groq_api_key,\n",
        ")"
      ],
      "metadata": {
        "id": "_cl2hdyvnPKV"
      },
      "execution_count": 10,
      "outputs": []
    },
    {
      "cell_type": "code",
      "source": [
        "# Define Agents\n",
        "planner = Agent(\n",
        "    role=\"Campaign Planner\",\n",
        "    goal=\"Plan a personalized marketing campaign for {product_name}.\",\n",
        "    backstory=\"You're tasked with developing a campaign strategy for the product: {product_name}. \"\n",
        "              \"This includes defining target audiences, campaign objectives, unique selling points, \"\n",
        "              \"and recommended promotional channels.\",\n",
        "    allow_delegation=False,\n",
        "    verbose=True,\n",
        "    llm=groq_llm\n",
        ")"
      ],
      "metadata": {
        "id": "E-P2SXBS5Cbm"
      },
      "execution_count": 11,
      "outputs": []
    },
    {
      "cell_type": "code",
      "source": [
        "writer = Agent(\n",
        "    role=\"Content Creator\",\n",
        "    goal=\"Write compelling and targeted marketing content for {product_name}.\",\n",
        "    backstory=\"You create persuasive marketing content based on the Campaign Planner's plan. \"\n",
        "              \"Your content should highlight the product's benefits and appeal to the target audience.\",\n",
        "    allow_delegation=False,\n",
        "    verbose=True,\n",
        "    llm=groq_llm\n",
        ")"
      ],
      "metadata": {
        "id": "JMfB0mql5hPt"
      },
      "execution_count": 12,
      "outputs": []
    },
    {
      "cell_type": "code",
      "source": [
        "editor = Agent(\n",
        "    role=\"Content Editor\",\n",
        "    goal=\"Refine the marketing content to align with brand tone and optimize impact.\",\n",
        "    backstory=\"You review and refine the content created by the Content Creator, ensuring it adheres to \"\n",
        "              \"brand guidelines, is engaging, and optimized for the target channels.\",\n",
        "    allow_delegation=False,\n",
        "    verbose=True,\n",
        "    llm=groq_llm\n",
        ")"
      ],
      "metadata": {
        "id": "guQlsBZs5ruQ"
      },
      "execution_count": 13,
      "outputs": []
    },
    {
      "cell_type": "code",
      "source": [
        "plan = Task(\n",
        "    description=(\n",
        "        \"1. Research current market trends, target audience interests, \"\n",
        "        \"and pain points for the product: {product_name}.\\n\"\n",
        "        \"2. Define unique selling points and outline promotional strategies.\\n\"\n",
        "        \"3. Identify effective marketing channels.\\n\"\n",
        "        \"4. Create a detailed content outline with key messaging points and a call to action.\"\n",
        "    ),\n",
        "    expected_output=\"A comprehensive marketing campaign plan document \"\n",
        "                    \"with audience analysis, campaign objectives, content outline, \"\n",
        "                    \"and promotional channel recommendations.\",\n",
        "    agent=planner,\n",
        ")"
      ],
      "metadata": {
        "id": "FMJvQdS15tjd"
      },
      "execution_count": 14,
      "outputs": []
    },
    {
      "cell_type": "code",
      "source": [
        "write = Task(\n",
        "    description=(\n",
        "        \"1. Use the campaign plan to create persuasive marketing content for {product_name}.\\n\"\n",
        "        \"2. Include the product's unique selling points and benefits.\\n\"\n",
        "        \"3. Ensure the tone aligns with the target audience and campaign objectives.\\n\"\n",
        "        \"4. Structure the content with an engaging introduction, key sections, and a clear call to action.\\n\"\n",
        "        \"5. Proofread for grammatical accuracy and brand voice alignment.\"\n",
        "    ),\n",
        "    expected_output=\"Well-crafted marketing content in markdown format, ready for publication.\",\n",
        "    agent=writer,\n",
        ")"
      ],
      "metadata": {
        "id": "GCNN8ClN50Yb"
      },
      "execution_count": 15,
      "outputs": []
    },
    {
      "cell_type": "code",
      "source": [
        "edit = Task(\n",
        "    description=(\n",
        "        \"1. Review the marketing content for clarity, engagement, and adherence to brand tone.\\n\"\n",
        "        \"2. Ensure content is optimized for identified channels (e.g., social media, email, blogs).\\n\"\n",
        "        \"3. Refine structure and language to maximize impact and readability.\\n\"\n",
        "        \"4. Check for grammatical errors and inconsistencies.\"\n",
        "    ),\n",
        "    expected_output=\"Finalized marketing content optimized for publication.\",\n",
        "    agent=editor,\n",
        ")"
      ],
      "metadata": {
        "id": "lX-XSgOB54U6"
      },
      "execution_count": 16,
      "outputs": []
    },
    {
      "cell_type": "code",
      "source": [
        "# Crew Workflow\n",
        "crew = Crew(\n",
        "    tasks=[plan, write, edit],\n",
        "    allow_parallel=False  # Sequential workflow: Plan → Write → Edit\n",
        ")"
      ],
      "metadata": {
        "id": "IgNBBzbj55xj"
      },
      "execution_count": 17,
      "outputs": []
    },
    {
      "cell_type": "code",
      "source": [
        "result = crew.kickoff(inputs={\"product_name\": \"Electric Vehicle\"})"
      ],
      "metadata": {
        "colab": {
          "base_uri": "https://localhost:8080/"
        },
        "id": "1U4sufbU59zs",
        "outputId": "3cf74463-f6ec-4736-c493-d25109a1f562"
      },
      "execution_count": 18,
      "outputs": [
        {
          "output_type": "stream",
          "name": "stdout",
          "text": [
            "\u001b[1m\u001b[95m# Agent:\u001b[00m \u001b[1m\u001b[92mCampaign Planner\u001b[00m\n",
            "\u001b[95m## Task:\u001b[00m \u001b[92m1. Research current market trends, target audience interests, and pain points for the product: Electric Vehicle.\n",
            "2. Define unique selling points and outline promotional strategies.\n",
            "3. Identify effective marketing channels.\n",
            "4. Create a detailed content outline with key messaging points and a call to action.\u001b[00m\n",
            "\n",
            "\n",
            "\u001b[1m\u001b[95m# Agent:\u001b[00m \u001b[1m\u001b[92mCampaign Planner\u001b[00m\n",
            "\u001b[95m## Final Answer:\u001b[00m \u001b[92m\n",
            "**Campaign Plan for Electric Vehicle**\n",
            "\n",
            "**I. Research and Analysis**\n",
            "\n",
            "* Target Audience:\n",
            "\t+ Demographics: Environmentally conscious individuals, urban dwellers, and tech-savvy consumers\n",
            "\t+ Psychographics: People who value sustainability, convenience, and innovation\n",
            "* Market Trends:\n",
            "\t+ Growing demand for eco-friendly transportation\n",
            "\t+ Increasing government incentives for electric vehicle adoption\n",
            "\t+ Advancements in technology and range anxiety concerns\n",
            "* Pain Points:\n",
            "\t+ Limited charging infrastructure\n",
            "\t+ Higher upfront cost compared to traditional vehicles\n",
            "\t+ Range anxiety and charging time concerns\n",
            "\n",
            "**II. Unique Selling Points and Promotional Strategies**\n",
            "\n",
            "* Unique Selling Points:\n",
            "\t+ Zero-emission driving experience\n",
            "\t+ Reduced operating costs\n",
            "\t+ Advanced technology and features\n",
            "* Promotional Strategies:\n",
            "\t+ Emphasize the environmental benefits and government incentives\n",
            "\t+ Highlight the convenience and cost-effectiveness of electric vehicles\n",
            "\t+ Showcase the advanced technology and features\n",
            "\n",
            "**III. Promotional Channels**\n",
            "\n",
            "* Online Advertising:\n",
            "\t+ Targeted Google Ads and social media campaigns\n",
            "\t+ Influencer partnerships with eco-conscious and tech-savvy individuals\n",
            "* Content Marketing:\n",
            "\t+ Blog posts and articles highlighting the benefits of electric vehicles\n",
            "\t+ Infographics and videos demonstrating the technology and features\n",
            "\t+ User-generated content campaigns showcasing customer experiences\n",
            "* Events and Activations:\n",
            "\t+ Hosting test drive events and charging station installations\n",
            "\t+ Partnering with environmental organizations and sustainability events\n",
            "* Public Relations:\n",
            "\t+ Media outreach and press releases highlighting the benefits and features\n",
            "\t+ Thought leadership pieces and expert interviews\n",
            "\n",
            "**IV. Content Outline and Key Messaging Points**\n",
            "\n",
            "* Title: \"Electrify Your Ride: Experience the Future of Transportation\"\n",
            "* Key Messaging Points:\n",
            "\t+ Electric vehicles are the future of transportation\n",
            "\t+ They offer a zero-emission driving experience and reduced operating costs\n",
            "\t+ Our electric vehicles feature advanced technology and innovative features\n",
            "* Content Outline:\n",
            "\t+ Introduction to electric vehicles and their benefits\n",
            "\t+ Overview of our electric vehicle models and features\n",
            "\t+ Testimonials and user-generated content showcasing customer experiences\n",
            "\t+ Call to action: Schedule a test drive or learn more about our electric vehicles\n",
            "\n",
            "**V. Call to Action**\n",
            "\n",
            "* Schedule a test drive at a local dealership\n",
            "* Learn more about our electric vehicle models and features\n",
            "* Contact us for more information or to schedule a consultation\n",
            "\n",
            "This comprehensive marketing campaign plan aims to educate and persuade potential customers about the benefits and features of electric vehicles, while also addressing pain points and concerns. By leveraging targeted online advertising, content marketing, events and activations, and public relations, we can effectively promote our electric vehicles and drive sales.\u001b[00m\n",
            "\n",
            "\n",
            "\u001b[1m\u001b[95m# Agent:\u001b[00m \u001b[1m\u001b[92mContent Creator\u001b[00m\n",
            "\u001b[95m## Task:\u001b[00m \u001b[92m1. Use the campaign plan to create persuasive marketing content for Electric Vehicle.\n",
            "2. Include the product's unique selling points and benefits.\n",
            "3. Ensure the tone aligns with the target audience and campaign objectives.\n",
            "4. Structure the content with an engaging introduction, key sections, and a clear call to action.\n",
            "5. Proofread for grammatical accuracy and brand voice alignment.\u001b[00m\n",
            "\n",
            "\n",
            "\u001b[1m\u001b[95m# Agent:\u001b[00m \u001b[1m\u001b[92mContent Creator\u001b[00m\n",
            "\u001b[95m## Final Answer:\u001b[00m \u001b[92m\n",
            "**Electrify Your Ride: Experience the Future of Transportation**\n",
            "============================================================\n",
            "\n",
            "Are you ready to join the electric revolution? At [Brand Name], we're committed to providing you with a driving experience that's not only sustainable but also convenient and innovative. Our electric vehicles offer a zero-emission driving experience, reduced operating costs, and advanced technology features that will take your driving experience to the next level.\n",
            "\n",
            "**Benefits of Electric Vehicles**\n",
            "-------------------------------\n",
            "\n",
            "### Zero-Emission Driving Experience\n",
            "\n",
            "Say goodbye to pollution and hello to a cleaner environment. Our electric vehicles produce zero tailpipe emissions, making them an excellent choice for those who care about the planet.\n",
            "\n",
            "### Reduced Operating Costs\n",
            "\n",
            "Electric vehicles are more cost-effective than traditional gasoline-powered vehicles. With lower maintenance costs and reduced fuel expenses, you'll save money in the long run.\n",
            "\n",
            "### Advanced Technology and Features\n",
            "\n",
            "Our electric vehicles come equipped with advanced technology features that will make your driving experience more enjoyable and convenient. From regenerative braking to advanced infotainment systems, our vehicles are designed to provide you with a driving experience like no other.\n",
            "\n",
            "**Our Electric Vehicle Models**\n",
            "-----------------------------\n",
            "\n",
            "### [Model Name]\n",
            "\n",
            "Our [Model Name] is a compact electric vehicle that's perfect for city driving. With a range of up to [range] miles, you'll be able to get where you need to go without worrying about running out of charge.\n",
            "\n",
            "### [Model Name]\n",
            "\n",
            "Our [Model Name] is a mid-size electric vehicle that's designed for families and commuters. With a range of up to [range] miles, you'll be able to take your loved ones on long road trips without worrying about charging.\n",
            "\n",
            "**Testimonials and User-Generated Content**\n",
            "-----------------------------------------\n",
            "\n",
            "### \"I was skeptical about electric vehicles at first, but after driving the [Model Name], I was blown away by its performance and range. It's the perfect car for my daily commute.\" - [Customer Name]\n",
            "\n",
            "### \"I love my [Model Name]! It's so easy to charge and maintain, and the advanced technology features make it feel like a luxury vehicle.\" - [Customer Name]\n",
            "\n",
            "**Call to Action**\n",
            "----------------\n",
            "\n",
            "Ready to experience the future of transportation? Schedule a test drive today and discover the benefits of electric vehicles for yourself. Visit our website or contact your local dealership to learn more about our electric vehicle models and features.\n",
            "\n",
            "**Additional Resources**\n",
            "----------------------\n",
            "\n",
            "### [Blog Post] \"The Benefits of Electric Vehicles: Why You Should Make the Switch\"\n",
            "\n",
            "### [Infographic] \"Electric Vehicle Charging 101: A Guide to Charging Your Vehicle\"\n",
            "\n",
            "### [Video] \"Electric Vehicle Test Drive: Experience the Future of Transportation\"\n",
            "\n",
            "**Contact Us**\n",
            "--------------\n",
            "\n",
            "Have questions about our electric vehicles or want to schedule a test drive? Contact us today and let us help you discover the benefits of electric vehicles for yourself.\n",
            "\n",
            "[Brand Name]\n",
            "[Address]\n",
            "[Phone Number]\n",
            "[Email Address]\n",
            "[Website]\u001b[00m\n",
            "\n",
            "\n",
            "\u001b[1m\u001b[95m# Agent:\u001b[00m \u001b[1m\u001b[92mContent Editor\u001b[00m\n",
            "\u001b[95m## Task:\u001b[00m \u001b[92m1. Review the marketing content for clarity, engagement, and adherence to brand tone.\n",
            "2. Ensure content is optimized for identified channels (e.g., social media, email, blogs).\n",
            "3. Refine structure and language to maximize impact and readability.\n",
            "4. Check for grammatical errors and inconsistencies.\u001b[00m\n",
            "\n",
            "\n",
            "\u001b[1m\u001b[95m# Agent:\u001b[00m \u001b[1m\u001b[92mContent Editor\u001b[00m\n",
            "\u001b[95m## Final Answer:\u001b[00m \u001b[92m\n",
            "**Electrify Your Ride: Experience the Future of Transportation**\n",
            "\n",
            "Are you ready to join the electric revolution? At [Brand Name], we're committed to providing you with a driving experience that's not only sustainable but also convenient and innovative. Our electric vehicles offer a zero-emission driving experience, reduced operating costs, and advanced technology features that will take your driving experience to the next level.\n",
            "\n",
            "**Benefits of Electric Vehicles**\n",
            "\n",
            "### Zero-Emission Driving Experience\n",
            "\n",
            "Say goodbye to pollution and hello to a cleaner environment. Our electric vehicles produce zero tailpipe emissions, making them an excellent choice for those who care about the planet.\n",
            "\n",
            "### Reduced Operating Costs\n",
            "\n",
            "Electric vehicles are more cost-effective than traditional gasoline-powered vehicles. With lower maintenance costs and reduced fuel expenses, you'll save money in the long run.\n",
            "\n",
            "### Advanced Technology and Features\n",
            "\n",
            "Our electric vehicles come equipped with advanced technology features that will make your driving experience more enjoyable and convenient. From regenerative braking to advanced infotainment systems, our vehicles are designed to provide you with a driving experience like no other.\n",
            "\n",
            "**Our Electric Vehicle Models**\n",
            "\n",
            "### [Model Name]\n",
            "\n",
            "Our [Model Name] is a compact electric vehicle that's perfect for city driving. With a range of up to [range] miles, you'll be able to get where you need to go without worrying about running out of charge.\n",
            "\n",
            "### [Model Name]\n",
            "\n",
            "Our [Model Name] is a mid-size electric vehicle that's designed for families and commuters. With a range of up to [range] miles, you'll be able to take your loved ones on long road trips without worrying about charging.\n",
            "\n",
            "**Testimonials and User-Generated Content**\n",
            "\n",
            "### \"I was skeptical about electric vehicles at first, but after driving the [Model Name], I was blown away by its performance and range. It's the perfect car for my daily commute.\" - [Customer Name]\n",
            "\n",
            "### \"I love my [Model Name]! It's so easy to charge and maintain, and the advanced technology features make it feel like a luxury vehicle.\" - [Customer Name]\n",
            "\n",
            "**Call to Action**\n",
            "\n",
            "Ready to experience the future of transportation? Schedule a test drive today and discover the benefits of electric vehicles for yourself. Visit our website or contact your local dealership to learn more about our electric vehicle models and features.\n",
            "\n",
            "**Additional Resources**\n",
            "\n",
            "### [Blog Post] \"The Benefits of Electric Vehicles: Why You Should Make the Switch\"\n",
            "\n",
            "### [Infographic] \"Electric Vehicle Charging 101: A Guide to Charging Your Vehicle\"\n",
            "\n",
            "### [Video] \"Electric Vehicle Test Drive: Experience the Future of Transportation\"\n",
            "\n",
            "**Contact Us**\n",
            "\n",
            "Have questions about our electric vehicles or want to schedule a test drive? Contact us today and let us help you discover the benefits of electric vehicles for yourself.\n",
            "\n",
            "[Brand Name]\n",
            "[Address]\n",
            "[Phone Number]\n",
            "[Email Address]\n",
            "[Website]\n",
            "\n",
            "This finalized marketing content is optimized for publication, adhering to brand tone and guidelines, and is ready for distribution across identified channels.\u001b[00m\n",
            "\n",
            "\n"
          ]
        }
      ]
    },
    {
      "cell_type": "code",
      "source": [
        "from IPython.display import Markdown\n",
        "Markdown(str(result))"
      ],
      "metadata": {
        "colab": {
          "base_uri": "https://localhost:8080/",
          "height": 984
        },
        "id": "Z-jv_bRY68Fc",
        "outputId": "8bd27c35-23cc-4f6f-c195-8eef89d4c16d"
      },
      "execution_count": 19,
      "outputs": [
        {
          "output_type": "execute_result",
          "data": {
            "text/plain": [
              "<IPython.core.display.Markdown object>"
            ],
            "text/markdown": "**Electrify Your Ride: Experience the Future of Transportation**\n\nAre you ready to join the electric revolution? At [Brand Name], we're committed to providing you with a driving experience that's not only sustainable but also convenient and innovative. Our electric vehicles offer a zero-emission driving experience, reduced operating costs, and advanced technology features that will take your driving experience to the next level.\n\n**Benefits of Electric Vehicles**\n\n### Zero-Emission Driving Experience\n\nSay goodbye to pollution and hello to a cleaner environment. Our electric vehicles produce zero tailpipe emissions, making them an excellent choice for those who care about the planet.\n\n### Reduced Operating Costs\n\nElectric vehicles are more cost-effective than traditional gasoline-powered vehicles. With lower maintenance costs and reduced fuel expenses, you'll save money in the long run.\n\n### Advanced Technology and Features\n\nOur electric vehicles come equipped with advanced technology features that will make your driving experience more enjoyable and convenient. From regenerative braking to advanced infotainment systems, our vehicles are designed to provide you with a driving experience like no other.\n\n**Our Electric Vehicle Models**\n\n### [Model Name]\n\nOur [Model Name] is a compact electric vehicle that's perfect for city driving. With a range of up to [range] miles, you'll be able to get where you need to go without worrying about running out of charge.\n\n### [Model Name]\n\nOur [Model Name] is a mid-size electric vehicle that's designed for families and commuters. With a range of up to [range] miles, you'll be able to take your loved ones on long road trips without worrying about charging.\n\n**Testimonials and User-Generated Content**\n\n### \"I was skeptical about electric vehicles at first, but after driving the [Model Name], I was blown away by its performance and range. It's the perfect car for my daily commute.\" - [Customer Name]\n\n### \"I love my [Model Name]! It's so easy to charge and maintain, and the advanced technology features make it feel like a luxury vehicle.\" - [Customer Name]\n\n**Call to Action**\n\nReady to experience the future of transportation? Schedule a test drive today and discover the benefits of electric vehicles for yourself. Visit our website or contact your local dealership to learn more about our electric vehicle models and features.\n\n**Additional Resources**\n\n### [Blog Post] \"The Benefits of Electric Vehicles: Why You Should Make the Switch\"\n\n### [Infographic] \"Electric Vehicle Charging 101: A Guide to Charging Your Vehicle\"\n\n### [Video] \"Electric Vehicle Test Drive: Experience the Future of Transportation\"\n\n**Contact Us**\n\nHave questions about our electric vehicles or want to schedule a test drive? Contact us today and let us help you discover the benefits of electric vehicles for yourself.\n\n[Brand Name]\n[Address]\n[Phone Number]\n[Email Address]\n[Website]\n\nThis finalized marketing content is optimized for publication, adhering to brand tone and guidelines, and is ready for distribution across identified channels."
          },
          "metadata": {},
          "execution_count": 19
        }
      ]
    },
    {
      "cell_type": "code",
      "source": [
        "!pip install gradio"
      ],
      "metadata": {
        "colab": {
          "base_uri": "https://localhost:8080/"
        },
        "id": "dcrr2Me2Oo1w",
        "outputId": "da53dfa2-23f8-4add-d703-fee0445f7075"
      },
      "execution_count": 20,
      "outputs": [
        {
          "output_type": "stream",
          "name": "stdout",
          "text": [
            "Requirement already satisfied: gradio in /usr/local/lib/python3.10/dist-packages (5.9.1)\n",
            "Requirement already satisfied: aiofiles<24.0,>=22.0 in /usr/local/lib/python3.10/dist-packages (from gradio) (23.2.1)\n",
            "Requirement already satisfied: anyio<5.0,>=3.0 in /usr/local/lib/python3.10/dist-packages (from gradio) (3.7.1)\n",
            "Requirement already satisfied: fastapi<1.0,>=0.115.2 in /usr/local/lib/python3.10/dist-packages (from gradio) (0.115.6)\n",
            "Requirement already satisfied: ffmpy in /usr/local/lib/python3.10/dist-packages (from gradio) (0.5.0)\n",
            "Requirement already satisfied: gradio-client==1.5.2 in /usr/local/lib/python3.10/dist-packages (from gradio) (1.5.2)\n",
            "Requirement already satisfied: httpx>=0.24.1 in /usr/local/lib/python3.10/dist-packages (from gradio) (0.27.2)\n",
            "Requirement already satisfied: huggingface-hub>=0.25.1 in /usr/local/lib/python3.10/dist-packages (from gradio) (0.27.0)\n",
            "Requirement already satisfied: jinja2<4.0 in /usr/local/lib/python3.10/dist-packages (from gradio) (3.1.4)\n",
            "Requirement already satisfied: markupsafe~=2.0 in /usr/local/lib/python3.10/dist-packages (from gradio) (2.1.5)\n",
            "Requirement already satisfied: numpy<3.0,>=1.0 in /usr/local/lib/python3.10/dist-packages (from gradio) (1.26.4)\n",
            "Requirement already satisfied: orjson~=3.0 in /usr/local/lib/python3.10/dist-packages (from gradio) (3.10.12)\n",
            "Requirement already satisfied: packaging in /usr/local/lib/python3.10/dist-packages (from gradio) (24.2)\n",
            "Requirement already satisfied: pandas<3.0,>=1.0 in /usr/local/lib/python3.10/dist-packages (from gradio) (2.2.2)\n",
            "Requirement already satisfied: pillow<12.0,>=8.0 in /usr/local/lib/python3.10/dist-packages (from gradio) (11.0.0)\n",
            "Requirement already satisfied: pydantic>=2.0 in /usr/local/lib/python3.10/dist-packages (from gradio) (2.10.3)\n",
            "Requirement already satisfied: pydub in /usr/local/lib/python3.10/dist-packages (from gradio) (0.25.1)\n",
            "Requirement already satisfied: python-multipart>=0.0.18 in /usr/local/lib/python3.10/dist-packages (from gradio) (0.0.20)\n",
            "Requirement already satisfied: pyyaml<7.0,>=5.0 in /usr/local/lib/python3.10/dist-packages (from gradio) (6.0.2)\n",
            "Requirement already satisfied: ruff>=0.2.2 in /usr/local/lib/python3.10/dist-packages (from gradio) (0.8.4)\n",
            "Requirement already satisfied: safehttpx<0.2.0,>=0.1.6 in /usr/local/lib/python3.10/dist-packages (from gradio) (0.1.6)\n",
            "Requirement already satisfied: semantic-version~=2.0 in /usr/local/lib/python3.10/dist-packages (from gradio) (2.10.0)\n",
            "Requirement already satisfied: starlette<1.0,>=0.40.0 in /usr/local/lib/python3.10/dist-packages (from gradio) (0.41.3)\n",
            "Requirement already satisfied: tomlkit<0.14.0,>=0.12.0 in /usr/local/lib/python3.10/dist-packages (from gradio) (0.13.2)\n",
            "Requirement already satisfied: typer<1.0,>=0.12 in /usr/local/lib/python3.10/dist-packages (from gradio) (0.15.1)\n",
            "Requirement already satisfied: typing-extensions~=4.0 in /usr/local/lib/python3.10/dist-packages (from gradio) (4.12.2)\n",
            "Requirement already satisfied: uvicorn>=0.14.0 in /usr/local/lib/python3.10/dist-packages (from gradio) (0.34.0)\n",
            "Requirement already satisfied: fsspec in /usr/local/lib/python3.10/dist-packages (from gradio-client==1.5.2->gradio) (2024.10.0)\n",
            "Requirement already satisfied: websockets<15.0,>=10.0 in /usr/local/lib/python3.10/dist-packages (from gradio-client==1.5.2->gradio) (14.1)\n",
            "Requirement already satisfied: idna>=2.8 in /usr/local/lib/python3.10/dist-packages (from anyio<5.0,>=3.0->gradio) (3.10)\n",
            "Requirement already satisfied: sniffio>=1.1 in /usr/local/lib/python3.10/dist-packages (from anyio<5.0,>=3.0->gradio) (1.3.1)\n",
            "Requirement already satisfied: exceptiongroup in /usr/local/lib/python3.10/dist-packages (from anyio<5.0,>=3.0->gradio) (1.2.2)\n",
            "Requirement already satisfied: certifi in /usr/local/lib/python3.10/dist-packages (from httpx>=0.24.1->gradio) (2024.12.14)\n",
            "Requirement already satisfied: httpcore==1.* in /usr/local/lib/python3.10/dist-packages (from httpx>=0.24.1->gradio) (1.0.7)\n",
            "Requirement already satisfied: h11<0.15,>=0.13 in /usr/local/lib/python3.10/dist-packages (from httpcore==1.*->httpx>=0.24.1->gradio) (0.14.0)\n",
            "Requirement already satisfied: filelock in /usr/local/lib/python3.10/dist-packages (from huggingface-hub>=0.25.1->gradio) (3.16.1)\n",
            "Requirement already satisfied: requests in /usr/local/lib/python3.10/dist-packages (from huggingface-hub>=0.25.1->gradio) (2.32.3)\n",
            "Requirement already satisfied: tqdm>=4.42.1 in /usr/local/lib/python3.10/dist-packages (from huggingface-hub>=0.25.1->gradio) (4.67.1)\n",
            "Requirement already satisfied: python-dateutil>=2.8.2 in /usr/local/lib/python3.10/dist-packages (from pandas<3.0,>=1.0->gradio) (2.8.2)\n",
            "Requirement already satisfied: pytz>=2020.1 in /usr/local/lib/python3.10/dist-packages (from pandas<3.0,>=1.0->gradio) (2024.2)\n",
            "Requirement already satisfied: tzdata>=2022.7 in /usr/local/lib/python3.10/dist-packages (from pandas<3.0,>=1.0->gradio) (2024.2)\n",
            "Requirement already satisfied: annotated-types>=0.6.0 in /usr/local/lib/python3.10/dist-packages (from pydantic>=2.0->gradio) (0.7.0)\n",
            "Requirement already satisfied: pydantic-core==2.27.1 in /usr/local/lib/python3.10/dist-packages (from pydantic>=2.0->gradio) (2.27.1)\n",
            "Requirement already satisfied: click>=8.0.0 in /usr/local/lib/python3.10/dist-packages (from typer<1.0,>=0.12->gradio) (8.1.7)\n",
            "Requirement already satisfied: shellingham>=1.3.0 in /usr/local/lib/python3.10/dist-packages (from typer<1.0,>=0.12->gradio) (1.5.4)\n",
            "Requirement already satisfied: rich>=10.11.0 in /usr/local/lib/python3.10/dist-packages (from typer<1.0,>=0.12->gradio) (13.9.4)\n",
            "Requirement already satisfied: six>=1.5 in /usr/local/lib/python3.10/dist-packages (from python-dateutil>=2.8.2->pandas<3.0,>=1.0->gradio) (1.17.0)\n",
            "Requirement already satisfied: markdown-it-py>=2.2.0 in /usr/local/lib/python3.10/dist-packages (from rich>=10.11.0->typer<1.0,>=0.12->gradio) (3.0.0)\n",
            "Requirement already satisfied: pygments<3.0.0,>=2.13.0 in /usr/local/lib/python3.10/dist-packages (from rich>=10.11.0->typer<1.0,>=0.12->gradio) (2.18.0)\n",
            "Requirement already satisfied: charset-normalizer<4,>=2 in /usr/local/lib/python3.10/dist-packages (from requests->huggingface-hub>=0.25.1->gradio) (3.4.0)\n",
            "Requirement already satisfied: urllib3<3,>=1.21.1 in /usr/local/lib/python3.10/dist-packages (from requests->huggingface-hub>=0.25.1->gradio) (2.2.3)\n",
            "Requirement already satisfied: mdurl~=0.1 in /usr/local/lib/python3.10/dist-packages (from markdown-it-py>=2.2.0->rich>=10.11.0->typer<1.0,>=0.12->gradio) (0.1.2)\n"
          ]
        }
      ]
    },
    {
      "cell_type": "code",
      "source": [
        "import gradio as gr"
      ],
      "metadata": {
        "id": "e9JuUI6mNCTk"
      },
      "execution_count": 21,
      "outputs": []
    },
    {
      "cell_type": "code",
      "source": [
        "# Gradio Interface function\n",
        "def gradio_interface(product_name: str) -> str:\n",
        "    try:\n",
        "        # Run the multi-agent workflow for the marketing campaign\n",
        "        result = crew.kickoff(inputs={\"product_name\": product_name})\n",
        "        return result\n",
        "    except Exception as e:\n",
        "        return f\"Error: {str(e)}\""
      ],
      "metadata": {
        "id": "i_TkhfBpPWHH"
      },
      "execution_count": 22,
      "outputs": []
    },
    {
      "cell_type": "code",
      "source": [
        "# Gradio interface setup\n",
        "interface = gr.Interface(\n",
        "    fn=gradio_interface,\n",
        "    inputs=\"text\",\n",
        "    outputs=\"text\",\n",
        "    title=\"AI Marketing Campaign Generator\",\n",
        "    description=\"Enter a product name to generate a comprehensive personalized marketing campaign.\"\n",
        ")"
      ],
      "metadata": {
        "id": "a2hK1NaFPX3u"
      },
      "execution_count": 23,
      "outputs": []
    },
    {
      "cell_type": "code",
      "source": [
        "# Launch the interface\n",
        "if __name__ == \"__main__\":\n",
        "    interface.launch()"
      ],
      "metadata": {
        "colab": {
          "base_uri": "https://localhost:8080/",
          "height": 646
        },
        "id": "ZXDn-H6jPcfT",
        "outputId": "a9e7aba6-5de2-414e-b84d-986141e0e8ba"
      },
      "execution_count": 24,
      "outputs": [
        {
          "output_type": "stream",
          "name": "stdout",
          "text": [
            "Running Gradio in a Colab notebook requires sharing enabled. Automatically setting `share=True` (you can turn this off by setting `share=False` in `launch()` explicitly).\n",
            "\n",
            "Colab notebook detected. To show errors in colab notebook, set debug=True in launch()\n",
            "* Running on public URL: https://f3c802ac5d1ac66c43.gradio.live\n",
            "\n",
            "This share link expires in 72 hours. For free permanent hosting and GPU upgrades, run `gradio deploy` from the terminal in the working directory to deploy to Hugging Face Spaces (https://huggingface.co/spaces)\n"
          ]
        },
        {
          "output_type": "display_data",
          "data": {
            "text/plain": [
              "<IPython.core.display.HTML object>"
            ],
            "text/html": [
              "<div><iframe src=\"https://f3c802ac5d1ac66c43.gradio.live\" width=\"100%\" height=\"500\" allow=\"autoplay; camera; microphone; clipboard-read; clipboard-write;\" frameborder=\"0\" allowfullscreen></iframe></div>"
            ]
          },
          "metadata": {}
        }
      ]
    }
  ]
}